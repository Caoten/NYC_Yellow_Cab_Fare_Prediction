{
 "cells": [
  {
   "cell_type": "code",
   "execution_count": 1,
   "metadata": {},
   "outputs": [],
   "source": [
    "import pandas as pd\n",
    "import numpy as np\n",
    "import fastparquet\n",
    "import seaborn as sns\n",
    "import geopandas as gpd\n",
    "import sys\n",
    "import os\n",
    "import matplotlib.pyplot as plt\n",
    "sys.path.append('C:/Users/thu-bao/Bachelorarbeit/3_Code/NYC_Yellow_Cab_Fare_Prediction/9_Helper_Function')\n",
    "import Target_Binning\n",
    "%matplotlib inline\n",
    "pd.set_option('display.max_columns', None)"
   ]
  },
  {
   "cell_type": "code",
   "execution_count": 2,
   "metadata": {},
   "outputs": [],
   "source": [
    "path=\"F:/1_Bachelorarbeit/1_Daten/1_Yellow_Cab_Trips_2009-June_2016/7_Preprocessing/Without_Feature_Engineering_false_Entry.parquet\"\n",
    "# Testing the Parquet Files\n",
    "df=pd.read_parquet(path=path,engine=\"fastparquet\")"
   ]
  },
  {
   "cell_type": "code",
   "execution_count": 3,
   "metadata": {},
   "outputs": [],
   "source": [
    "# use unsupervised learning method k-means to bin Target Variable\n",
    "df_kmeans_binning=Target_Binning.KMeans_Binning(df,5)"
   ]
  },
  {
   "cell_type": "code",
   "execution_count": 4,
   "metadata": {},
   "outputs": [
    {
     "data": {
      "image/png": "[encoded data removed]",
      "text/plain": [
       "<Figure size 360x360 with 1 Axes>"
      ]
     },
     "metadata": {
      "needs_background": "light"
     },
     "output_type": "display_data"
    }
   ],
   "source": [
    "# Show Distribution of the Bins of Target\n",
    "sns.catplot(x=\"kmeans_binned\", y=\"Fare_Amt\", data=df_kmeans_binning);"
   ]
  },
  {
   "cell_type": "code",
   "execution_count": 5,
   "metadata": {},
   "outputs": [
    {
     "data": {
      "text/plain": [
       "Pickup_DateTime    2009-01-01 00:16:56\n",
       "Passenger_Count                      1\n",
       "Pickup_Lon                    -74.2386\n",
       "Pickup_Lat                     40.5229\n",
       "Fare_Amt                       2.69922\n",
       "Dropoff_Lon                   -74.2374\n",
       "Dropoff_Lat                    40.5146\n",
       "kmeans_binned                        1\n",
       "dtype: object"
      ]
     },
     "execution_count": 5,
     "metadata": {},
     "output_type": "execute_result"
    }
   ],
   "source": [
    "category_1=df_kmeans_binning.loc[(df_kmeans_binning[\"kmeans_binned\"]==1)]\n",
    "category_1.min()"
   ]
  },
  {
   "cell_type": "code",
   "execution_count": 6,
   "metadata": {},
   "outputs": [
    {
     "data": {
      "text/plain": [
       "Pickup_DateTime    2016-06-30 23:54:22\n",
       "Passenger_Count                      6\n",
       "Pickup_Lon                    -73.7149\n",
       "Pickup_Lat                     40.9104\n",
       "Fare_Amt                       8.20312\n",
       "Dropoff_Lon                   -73.7082\n",
       "Dropoff_Lat                    40.9121\n",
       "kmeans_binned                        1\n",
       "dtype: object"
      ]
     },
     "execution_count": 6,
     "metadata": {},
     "output_type": "execute_result"
    }
   ],
   "source": [
    "category_1.max()"
   ]
  },
  {
   "cell_type": "code",
   "execution_count": 7,
   "metadata": {},
   "outputs": [
    {
     "data": {
      "text/plain": [
       "Pickup_DateTime    2009-01-01 00:15:51\n",
       "Passenger_Count                      1\n",
       "Pickup_Lon                    -74.1809\n",
       "Pickup_Lat                      40.566\n",
       "Fare_Amt                       8.29688\n",
       "Dropoff_Lon                    -74.183\n",
       "Dropoff_Lat                     40.539\n",
       "kmeans_binned                        3\n",
       "dtype: object"
      ]
     },
     "execution_count": 7,
     "metadata": {},
     "output_type": "execute_result"
    }
   ],
   "source": [
    "category_3=df_kmeans_binning.loc[(df_kmeans_binning[\"kmeans_binned\"]==3)]\n",
    "category_3.min()"
   ]
  },
  {
   "cell_type": "code",
   "execution_count": 8,
   "metadata": {},
   "outputs": [
    {
     "data": {
      "text/plain": [
       "Pickup_DateTime    2016-06-30 23:56:08\n",
       "Passenger_Count                      6\n",
       "Pickup_Lon                    -73.7147\n",
       "Pickup_Lat                     40.9066\n",
       "Fare_Amt                       13.7969\n",
       "Dropoff_Lon                   -73.7013\n",
       "Dropoff_Lat                    40.9055\n",
       "kmeans_binned                        3\n",
       "dtype: object"
      ]
     },
     "execution_count": 8,
     "metadata": {},
     "output_type": "execute_result"
    }
   ],
   "source": [
    "category_3.max()"
   ]
  },
  {
   "cell_type": "code",
   "execution_count": 9,
   "metadata": {},
   "outputs": [
    {
     "data": {
      "text/plain": [
       "Pickup_DateTime    2009-01-01 00:13:43\n",
       "Passenger_Count                      1\n",
       "Pickup_Lon                    -74.1992\n",
       "Pickup_Lat                     40.5653\n",
       "Fare_Amt                       13.8984\n",
       "Dropoff_Lon                   -74.1869\n",
       "Dropoff_Lat                    40.5687\n",
       "kmeans_binned                        4\n",
       "dtype: object"
      ]
     },
     "execution_count": 9,
     "metadata": {},
     "output_type": "execute_result"
    }
   ],
   "source": [
    "category_4=df_kmeans_binning.loc[(df_kmeans_binning[\"kmeans_binned\"]==4)]\n",
    "category_4.min()"
   ]
  },
  {
   "cell_type": "code",
   "execution_count": 10,
   "metadata": {},
   "outputs": [
    {
     "data": {
      "text/plain": [
       "Pickup_DateTime    2016-06-30 23:50:36\n",
       "Passenger_Count                      6\n",
       "Pickup_Lon                     -73.706\n",
       "Pickup_Lat                     40.9011\n",
       "Fare_Amt                       22.7031\n",
       "Dropoff_Lon                   -73.7057\n",
       "Dropoff_Lat                    40.9123\n",
       "kmeans_binned                        4\n",
       "dtype: object"
      ]
     },
     "execution_count": 10,
     "metadata": {},
     "output_type": "execute_result"
    }
   ],
   "source": [
    "category_4.max()"
   ]
  },
  {
   "cell_type": "code",
   "execution_count": 11,
   "metadata": {},
   "outputs": [
    {
     "data": {
      "text/plain": [
       "Pickup_DateTime    2009-01-01 00:47:32\n",
       "Passenger_Count                      1\n",
       "Pickup_Lon                    -74.1629\n",
       "Pickup_Lat                     40.5755\n",
       "Fare_Amt                       22.9062\n",
       "Dropoff_Lon                   -74.2107\n",
       "Dropoff_Lat                    40.5361\n",
       "kmeans_binned                        0\n",
       "dtype: object"
      ]
     },
     "execution_count": 11,
     "metadata": {},
     "output_type": "execute_result"
    }
   ],
   "source": [
    "category_0=df_kmeans_binning.loc[(df_kmeans_binning[\"kmeans_binned\"]==0)]\n",
    "category_0.min()"
   ]
  },
  {
   "cell_type": "code",
   "execution_count": 12,
   "metadata": {},
   "outputs": [
    {
     "data": {
      "text/plain": [
       "Pickup_DateTime    2016-06-30 23:44:45\n",
       "Passenger_Count                      6\n",
       "Pickup_Lon                    -73.7375\n",
       "Pickup_Lat                     40.9104\n",
       "Fare_Amt                          38.5\n",
       "Dropoff_Lon                   -73.7032\n",
       "Dropoff_Lat                    40.9125\n",
       "kmeans_binned                        0\n",
       "dtype: object"
      ]
     },
     "execution_count": 12,
     "metadata": {},
     "output_type": "execute_result"
    }
   ],
   "source": [
    "category_0.max()"
   ]
  },
  {
   "cell_type": "code",
   "execution_count": 13,
   "metadata": {},
   "outputs": [
    {
     "data": {
      "text/plain": [
       "Pickup_DateTime    2009-01-01 04:55:19\n",
       "Passenger_Count                      1\n",
       "Pickup_Lon                    -74.0779\n",
       "Pickup_Lat                     40.5756\n",
       "Fare_Amt                       38.9062\n",
       "Dropoff_Lon                   -74.2393\n",
       "Dropoff_Lat                    40.5071\n",
       "kmeans_binned                        2\n",
       "dtype: object"
      ]
     },
     "execution_count": 13,
     "metadata": {},
     "output_type": "execute_result"
    }
   ],
   "source": [
    "category_2=df_kmeans_binning.loc[(df_kmeans_binning[\"kmeans_binned\"]==2)]\n",
    "category_2.min()"
   ]
  },
  {
   "cell_type": "code",
   "execution_count": 14,
   "metadata": {},
   "outputs": [
    {
     "data": {
      "text/plain": [
       "Pickup_DateTime    2016-06-30 23:16:12\n",
       "Passenger_Count                      6\n",
       "Pickup_Lon                    -73.7309\n",
       "Pickup_Lat                     40.8897\n",
       "Fare_Amt                           110\n",
       "Dropoff_Lon                    -73.702\n",
       "Dropoff_Lat                    40.9126\n",
       "kmeans_binned                        2\n",
       "dtype: object"
      ]
     },
     "execution_count": 14,
     "metadata": {},
     "output_type": "execute_result"
    }
   ],
   "source": [
    "category_2.max()"
   ]
  },
  {
   "cell_type": "markdown",
   "metadata": {},
   "source": [
    "#### Observation:\n",
    "#### The Clustering is no optimal, but we can use it for later reference and must construct own Clusters for the Fare"
   ]
  },
  {
   "cell_type": "code",
   "execution_count": 15,
   "metadata": {},
   "outputs": [],
   "source": [
    "df_own_binning_target=Target_Binning.own_binning_target(df,category_1[\"Fare_Amt\"].min()-0.1,category_2[\"Fare_Amt\"].max())"
   ]
  },
  {
   "cell_type": "code",
   "execution_count": 16,
   "metadata": {},
   "outputs": [
    {
     "data": {
      "text/html": [
       "<div>\n",
       "<style scoped>\n",
       "    .dataframe tbody tr th:only-of-type {\n",
       "        vertical-align: middle;\n",
       "    }\n",
       "\n",
       "    .dataframe tbody tr th {\n",
       "        vertical-align: top;\n",
       "    }\n",
       "\n",
       "    .dataframe thead th {\n",
       "        text-align: right;\n",
       "    }\n",
       "</style>\n",
       "<table border=\"1\" class=\"dataframe\">\n",
       "  <thead>\n",
       "    <tr style=\"text-align: right;\">\n",
       "      <th></th>\n",
       "      <th>Pickup_DateTime</th>\n",
       "      <th>Passenger_Count</th>\n",
       "      <th>Pickup_Lon</th>\n",
       "      <th>Pickup_Lat</th>\n",
       "      <th>Dropoff_Lon</th>\n",
       "      <th>Dropoff_Lat</th>\n",
       "      <th>Fare_Bin</th>\n",
       "    </tr>\n",
       "    <tr>\n",
       "      <th>index</th>\n",
       "      <th></th>\n",
       "      <th></th>\n",
       "      <th></th>\n",
       "      <th></th>\n",
       "      <th></th>\n",
       "      <th></th>\n",
       "      <th></th>\n",
       "    </tr>\n",
       "  </thead>\n",
       "  <tbody>\n",
       "    <tr>\n",
       "      <th>183041</th>\n",
       "      <td>2009-01-01 00:13:43</td>\n",
       "      <td>2</td>\n",
       "      <td>-74.009254</td>\n",
       "      <td>40.706161</td>\n",
       "      <td>-73.995110</td>\n",
       "      <td>40.760044</td>\n",
       "      <td>1</td>\n",
       "    </tr>\n",
       "    <tr>\n",
       "      <th>181137</th>\n",
       "      <td>2009-01-01 00:15:51</td>\n",
       "      <td>1</td>\n",
       "      <td>-73.940910</td>\n",
       "      <td>40.792622</td>\n",
       "      <td>-73.923622</td>\n",
       "      <td>40.743958</td>\n",
       "      <td>1</td>\n",
       "    </tr>\n",
       "    <tr>\n",
       "      <th>241421</th>\n",
       "      <td>2009-01-01 00:16:50</td>\n",
       "      <td>4</td>\n",
       "      <td>-73.981300</td>\n",
       "      <td>40.768108</td>\n",
       "      <td>-73.992531</td>\n",
       "      <td>40.751957</td>\n",
       "      <td>1</td>\n",
       "    </tr>\n",
       "    <tr>\n",
       "      <th>222602</th>\n",
       "      <td>2009-01-01 00:16:56</td>\n",
       "      <td>1</td>\n",
       "      <td>-73.998840</td>\n",
       "      <td>40.719589</td>\n",
       "      <td>-74.006203</td>\n",
       "      <td>40.714466</td>\n",
       "      <td>0</td>\n",
       "    </tr>\n",
       "    <tr>\n",
       "      <th>30701</th>\n",
       "      <td>2009-01-01 00:17:08</td>\n",
       "      <td>2</td>\n",
       "      <td>-73.965240</td>\n",
       "      <td>40.770863</td>\n",
       "      <td>-73.971161</td>\n",
       "      <td>40.766846</td>\n",
       "      <td>0</td>\n",
       "    </tr>\n",
       "  </tbody>\n",
       "</table>\n",
       "</div>"
      ],
      "text/plain": [
       "           Pickup_DateTime  Passenger_Count  Pickup_Lon  Pickup_Lat  \\\n",
       "index                                                                 \n",
       "183041 2009-01-01 00:13:43                2  -74.009254   40.706161   \n",
       "181137 2009-01-01 00:15:51                1  -73.940910   40.792622   \n",
       "241421 2009-01-01 00:16:50                4  -73.981300   40.768108   \n",
       "222602 2009-01-01 00:16:56                1  -73.998840   40.719589   \n",
       "30701  2009-01-01 00:17:08                2  -73.965240   40.770863   \n",
       "\n",
       "        Dropoff_Lon  Dropoff_Lat Fare_Bin  \n",
       "index                                      \n",
       "183041   -73.995110    40.760044        1  \n",
       "181137   -73.923622    40.743958        1  \n",
       "241421   -73.992531    40.751957        1  \n",
       "222602   -74.006203    40.714466        0  \n",
       "30701    -73.971161    40.766846        0  "
      ]
     },
     "execution_count": 16,
     "metadata": {},
     "output_type": "execute_result"
    }
   ],
   "source": [
    "df_own_binning_target.head()"
   ]
  },
  {
   "cell_type": "code",
   "execution_count": 17,
   "metadata": {},
   "outputs": [
    {
     "data": {
      "text/plain": [
       "<matplotlib.axes._subplots.AxesSubplot at 0x2311e920ac8>"
      ]
     },
     "execution_count": 17,
     "metadata": {},
     "output_type": "execute_result"
    },
    {
     "data": {
      "image/png": "[encoded data removed]",
      "text/plain": [
       "<Figure size 432x288 with 1 Axes>"
      ]
     },
     "metadata": {
      "needs_background": "light"
     },
     "output_type": "display_data"
    }
   ],
   "source": [
    "plt.title('Count of Target Bin')\n",
    "df_own_binning_target[\"Fare_Bin\"].value_counts().plot.bar()"
   ]
  },
  {
   "cell_type": "code",
   "execution_count": 18,
   "metadata": {},
   "outputs": [
    {
     "name": "stdout",
     "output_type": "stream",
     "text": [
      "60.792009942523094\n",
      "28.581680000211996\n",
      "6.2368663032734535\n",
      "2.9581656150876197\n",
      "1.4312781389038316\n"
     ]
    }
   ],
   "source": [
    "print(str(len(df_own_binning_target.loc[(df_own_binning_target[\"Fare_Bin\"]==0)])/len(df_own_binning_target)*100))\n",
    "print(str(len(df_own_binning_target.loc[(df_own_binning_target[\"Fare_Bin\"]==1)])/len(df_own_binning_target)*100))\n",
    "print(str(len(df_own_binning_target.loc[(df_own_binning_target[\"Fare_Bin\"]==2)])/len(df_own_binning_target)*100))\n",
    "print(str(len(df_own_binning_target.loc[(df_own_binning_target[\"Fare_Bin\"]==3)])/len(df_own_binning_target)*100))\n",
    "print(str(len(df_own_binning_target.loc[(df_own_binning_target[\"Fare_Bin\"]==4)])/len(df_own_binning_target)*100))"
   ]
  },
  {
   "cell_type": "code",
   "execution_count": 19,
   "metadata": {},
   "outputs": [
    {
     "data": {
      "text/plain": [
       "0    1147051\n",
       "1     539292\n",
       "2     117680\n",
       "3      55816\n",
       "4      27006\n",
       "Name: Fare_Bin, dtype: int64"
      ]
     },
     "execution_count": 19,
     "metadata": {},
     "output_type": "execute_result"
    }
   ],
   "source": [
    "df_own_binning_target[\"Fare_Bin\"].value_counts()"
   ]
  },
  {
   "cell_type": "markdown",
   "metadata": {},
   "source": [
    "#### Observation:\n",
    "#### There is a Class imbalance -> Solution:Undersampling,Oversampling, SMOTE"
   ]
  },
  {
   "cell_type": "code",
   "execution_count": 20,
   "metadata": {},
   "outputs": [],
   "source": [
    "# Convert to parquet for quick reloading\n",
    "# Set Path for Parquet Files\n",
    "path=\"F:/1_Bachelorarbeit/1_Daten/1_Yellow_Cab_Trips_2009-June_2016/8_Feature-Engineering_Transformation\"\n",
    "df_own_binning_target.to_parquet(os.path.join(path, \"Without_Feature_Engineering_false_Entry\" + \".\" + \"parquet\"),engine=\"fastparquet\")"
   ]
  },
  {
   "cell_type": "code",
   "execution_count": null,
   "metadata": {},
   "outputs": [],
   "source": []
  }
 ],
 "metadata": {
  "kernelspec": {
   "display_name": "Python 3",
   "language": "python",
   "name": "python3"
  },
  "language_info": {
   "codemirror_mode": {
    "name": "ipython",
    "version": 3
   },
   "file_extension": ".py",
   "mimetype": "text/x-python",
   "name": "python",
   "nbconvert_exporter": "python",
   "pygments_lexer": "ipython3",
   "version": "3.7.3"
  }
 },
 "nbformat": 4,
 "nbformat_minor": 4
}
