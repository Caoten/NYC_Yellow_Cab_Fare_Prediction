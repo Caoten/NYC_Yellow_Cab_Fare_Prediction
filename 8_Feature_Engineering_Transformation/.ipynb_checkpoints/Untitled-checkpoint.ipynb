{
 "cells": [
  {
   "cell_type": "code",
   "execution_count": 1,
   "metadata": {},
   "outputs": [],
   "source": [
    "import pandas as pd\n",
    "import datetime as dt\n",
    "import matplotlib.pyplot as plt\n",
    "import seaborn as sns\n",
    "import numpy as np\n",
    "import folium\n",
    "import os\n",
    "import fastparquet\n",
    "import geopandas as gpd\n",
    "import calendar\n",
    "from shapely.geometry import Point\n",
    "from bokeh.plotting import figure, show\n",
    "import plotly.express as px\n",
    "from plotly.offline import iplot\n",
    "%matplotlib inline\n",
    "pd.set_option('display.max_columns', None)"
   ]
  },
  {
   "cell_type": "code",
   "execution_count": null,
   "metadata": {},
   "outputs": [],
   "source": [
    "path=\"F:/1_Bachelorarbeit/1_Daten/1_Yellow_Cab_Trips_2009-June_2016/Dataset_after_Exploration_and_Cleaning/After_Exploration_and_Cleaning_with_false_Entry.parquet\"\n",
    "# Testing the Parquet Files\n",
    "df=pd.read_parquet(path=path,engine=\"fastparquet\")\n",
    "df"
   ]
  },
  {
   "cell_type": "code",
   "execution_count": null,
   "metadata": {},
   "outputs": [],
   "source": [
    "gdf=gpd.GeoDataFrame(df)"
   ]
  },
  {
   "cell_type": "code",
   "execution_count": null,
   "metadata": {},
   "outputs": [],
   "source": [
    "gdf.head()"
   ]
  },
  {
   "cell_type": "code",
   "execution_count": null,
   "metadata": {},
   "outputs": [],
   "source": [
    "gdf.dtypes"
   ]
  },
  {
   "cell_type": "code",
   "execution_count": null,
   "metadata": {},
   "outputs": [],
   "source": [
    "gdf.shape()"
   ]
  },
  {
   "cell_type": "code",
   "execution_count": null,
   "metadata": {},
   "outputs": [],
   "source": [
    "gdf.describe()"
   ]
  },
  {
   "cell_type": "code",
   "execution_count": 7,
   "metadata": {},
   "outputs": [],
   "source": [
    "array=np.array([1, 2, 3, 4, 5, 6])"
   ]
  },
  {
   "cell_type": "code",
   "execution_count": 8,
   "metadata": {},
   "outputs": [],
   "source": [
    "min=array.min()\n",
    "max=array.max()"
   ]
  },
  {
   "cell_type": "code",
   "execution_count": 15,
   "metadata": {},
   "outputs": [
    {
     "data": {
      "text/plain": [
       "array([0.9, 2.6, 4.3, 6. ])"
      ]
     },
     "execution_count": 15,
     "metadata": {},
     "output_type": "execute_result"
    }
   ],
   "source": [
    "# Number of bins, always one Number bigger\n",
    "bins=4\n",
    "#Return evenly spaced numbers over a specified interval.\n",
    "custom_bucket_array = np.linspace(min-0.1, max, bins)\n",
    "custom_bucket_array"
   ]
  },
  {
   "cell_type": "code",
   "execution_count": 16,
   "metadata": {},
   "outputs": [
    {
     "data": {
      "text/plain": [
       "[bad, bad, medium, medium, good, good]\n",
       "Categories (3, object): [bad < medium < good]"
      ]
     },
     "execution_count": 16,
     "metadata": {},
     "output_type": "execute_result"
    }
   ],
   "source": [
    "labels=pd.cut(array, custom_bucket_array,labels=[\"bad\", \"medium\", \"good\"])"
   ]
  },
  {
   "cell_type": "code",
   "execution_count": 18,
   "metadata": {},
   "outputs": [
    {
     "data": {
      "text/plain": [
       "([(0.9, 2.6], (0.9, 2.6], (2.6, 4.3], (2.6, 4.3], (4.3, 6.0], (4.3, 6.0]]\n",
       " Categories (3, interval[float64]): [(0.9, 2.6] < (2.6, 4.3] < (4.3, 6.0]],\n",
       " array([0.9, 2.6, 4.3, 6. ]))"
      ]
     },
     "execution_count": 18,
     "metadata": {},
     "output_type": "execute_result"
    }
   ],
   "source": [
    "pd.cut(array, custom_bucket_array,retbins=True)"
   ]
  },
  {
   "cell_type": "code",
   "execution_count": null,
   "metadata": {},
   "outputs": [],
   "source": [
    "#df['normal'] = pd.cut(df['normal'], custom_bucket_array)"
   ]
  }
 ],
 "metadata": {
  "kernelspec": {
   "display_name": "Python 3",
   "language": "python",
   "name": "python3"
  },
  "language_info": {
   "codemirror_mode": {
    "name": "ipython",
    "version": 3
   },
   "file_extension": ".py",
   "mimetype": "text/x-python",
   "name": "python",
   "nbconvert_exporter": "python",
   "pygments_lexer": "ipython3",
   "version": "3.7.3"
  }
 },
 "nbformat": 4,
 "nbformat_minor": 4
}
