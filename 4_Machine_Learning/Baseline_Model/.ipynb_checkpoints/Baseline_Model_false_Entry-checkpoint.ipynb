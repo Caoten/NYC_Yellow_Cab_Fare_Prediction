{
 "cells": [
  {
   "cell_type": "code",
   "execution_count": 1,
   "metadata": {},
   "outputs": [],
   "source": [
    "import pandas as pd\n",
    "import numpy as np\n",
    "import fastparquet\n",
    "import geopandas as gpd\n",
    "import matplotlib.pyplot as plt\n",
    "from sklearn.metrics import accuracy_score\n",
    "from sklearn.metrics import f1_score\n",
    "from sklearn.metrics import classification_report\n",
    "from sklearn.metrics import confusion_matrix\n",
    "from sklearn.model_selection import train_test_split\n",
    "%matplotlib inline\n",
    "pd.set_option('display.max_columns', None)"
   ]
  },
  {
   "cell_type": "code",
   "execution_count": 2,
   "metadata": {},
   "outputs": [],
   "source": [
    "path=\"F:/1_Bachelorarbeit/1_Daten/1_Yellow_Cab_Trips_2009-June_2016/8_Feature-Engineering_Transformation/Without_Feature_Engineering_false_Entry.parquet\"\n",
    "# Testing the Parquet Files\n",
    "df=pd.read_parquet(path=path,engine=\"fastparquet\")"
   ]
  },
  {
   "cell_type": "code",
   "execution_count": 3,
   "metadata": {},
   "outputs": [
    {
     "data": {
      "text/plain": [
       "(1886845, 7)"
      ]
     },
     "execution_count": 3,
     "metadata": {},
     "output_type": "execute_result"
    }
   ],
   "source": [
    "df.shape"
   ]
  },
  {
   "cell_type": "code",
   "execution_count": 4,
   "metadata": {},
   "outputs": [
    {
     "data": {
      "text/html": [
       "<div>\n",
       "<style scoped>\n",
       "    .dataframe tbody tr th:only-of-type {\n",
       "        vertical-align: middle;\n",
       "    }\n",
       "\n",
       "    .dataframe tbody tr th {\n",
       "        vertical-align: top;\n",
       "    }\n",
       "\n",
       "    .dataframe thead th {\n",
       "        text-align: right;\n",
       "    }\n",
       "</style>\n",
       "<table border=\"1\" class=\"dataframe\">\n",
       "  <thead>\n",
       "    <tr style=\"text-align: right;\">\n",
       "      <th></th>\n",
       "      <th>Pickup_DateTime</th>\n",
       "      <th>Passenger_Count</th>\n",
       "      <th>Pickup_Lon</th>\n",
       "      <th>Pickup_Lat</th>\n",
       "      <th>Dropoff_Lon</th>\n",
       "      <th>Dropoff_Lat</th>\n",
       "      <th>Fare_Bin</th>\n",
       "    </tr>\n",
       "    <tr>\n",
       "      <th>index</th>\n",
       "      <th></th>\n",
       "      <th></th>\n",
       "      <th></th>\n",
       "      <th></th>\n",
       "      <th></th>\n",
       "      <th></th>\n",
       "      <th></th>\n",
       "    </tr>\n",
       "  </thead>\n",
       "  <tbody>\n",
       "    <tr>\n",
       "      <th>183041</th>\n",
       "      <td>2009-01-01 00:13:43</td>\n",
       "      <td>2</td>\n",
       "      <td>-74.009254</td>\n",
       "      <td>40.706161</td>\n",
       "      <td>-73.995110</td>\n",
       "      <td>40.760044</td>\n",
       "      <td>1</td>\n",
       "    </tr>\n",
       "    <tr>\n",
       "      <th>181137</th>\n",
       "      <td>2009-01-01 00:15:51</td>\n",
       "      <td>1</td>\n",
       "      <td>-73.940910</td>\n",
       "      <td>40.792622</td>\n",
       "      <td>-73.923622</td>\n",
       "      <td>40.743958</td>\n",
       "      <td>1</td>\n",
       "    </tr>\n",
       "    <tr>\n",
       "      <th>241421</th>\n",
       "      <td>2009-01-01 00:16:50</td>\n",
       "      <td>4</td>\n",
       "      <td>-73.981300</td>\n",
       "      <td>40.768108</td>\n",
       "      <td>-73.992531</td>\n",
       "      <td>40.751957</td>\n",
       "      <td>1</td>\n",
       "    </tr>\n",
       "    <tr>\n",
       "      <th>222602</th>\n",
       "      <td>2009-01-01 00:16:56</td>\n",
       "      <td>1</td>\n",
       "      <td>-73.998840</td>\n",
       "      <td>40.719589</td>\n",
       "      <td>-74.006203</td>\n",
       "      <td>40.714466</td>\n",
       "      <td>0</td>\n",
       "    </tr>\n",
       "    <tr>\n",
       "      <th>30701</th>\n",
       "      <td>2009-01-01 00:17:08</td>\n",
       "      <td>2</td>\n",
       "      <td>-73.965240</td>\n",
       "      <td>40.770863</td>\n",
       "      <td>-73.971161</td>\n",
       "      <td>40.766846</td>\n",
       "      <td>0</td>\n",
       "    </tr>\n",
       "  </tbody>\n",
       "</table>\n",
       "</div>"
      ],
      "text/plain": [
       "           Pickup_DateTime  Passenger_Count  Pickup_Lon  Pickup_Lat  \\\n",
       "index                                                                 \n",
       "183041 2009-01-01 00:13:43                2  -74.009254   40.706161   \n",
       "181137 2009-01-01 00:15:51                1  -73.940910   40.792622   \n",
       "241421 2009-01-01 00:16:50                4  -73.981300   40.768108   \n",
       "222602 2009-01-01 00:16:56                1  -73.998840   40.719589   \n",
       "30701  2009-01-01 00:17:08                2  -73.965240   40.770863   \n",
       "\n",
       "        Dropoff_Lon  Dropoff_Lat Fare_Bin  \n",
       "index                                      \n",
       "183041   -73.995110    40.760044        1  \n",
       "181137   -73.923622    40.743958        1  \n",
       "241421   -73.992531    40.751957        1  \n",
       "222602   -74.006203    40.714466        0  \n",
       "30701    -73.971161    40.766846        0  "
      ]
     },
     "execution_count": 4,
     "metadata": {},
     "output_type": "execute_result"
    }
   ],
   "source": [
    "df.head()"
   ]
  },
  {
   "cell_type": "markdown",
   "metadata": {},
   "source": [
    "### Create Training and Testset"
   ]
  },
  {
   "cell_type": "code",
   "execution_count": 5,
   "metadata": {},
   "outputs": [],
   "source": [
    "X_train, X_test, y_train, y_test = train_test_split(df.drop(columns=[\"Fare_Bin\"]), df[\"Fare_Bin\"], test_size=0.2, random_state=1)"
   ]
  },
  {
   "cell_type": "code",
   "execution_count": 6,
   "metadata": {},
   "outputs": [
    {
     "name": "stdout",
     "output_type": "stream",
     "text": [
      "Shape of X_train (1509476, 6)\n",
      "Shape of X_test (377369, 6)\n",
      "Shape of y_train (1509476,)\n",
      "Shape of y_test (377369,)\n"
     ]
    }
   ],
   "source": [
    "print(\"Shape of X_train\" +\" \" + str(X_train.shape))\n",
    "print(\"Shape of X_test\" +\" \" + str(X_test.shape))\n",
    "print(\"Shape of y_train\" +\" \" + str(y_train.shape))\n",
    "print(\"Shape of y_test\" +\" \" + str(y_test.shape))"
   ]
  },
  {
   "cell_type": "code",
   "execution_count": 7,
   "metadata": {},
   "outputs": [
    {
     "data": {
      "text/html": [
       "<div>\n",
       "<style scoped>\n",
       "    .dataframe tbody tr th:only-of-type {\n",
       "        vertical-align: middle;\n",
       "    }\n",
       "\n",
       "    .dataframe tbody tr th {\n",
       "        vertical-align: top;\n",
       "    }\n",
       "\n",
       "    .dataframe thead th {\n",
       "        text-align: right;\n",
       "    }\n",
       "</style>\n",
       "<table border=\"1\" class=\"dataframe\">\n",
       "  <thead>\n",
       "    <tr style=\"text-align: right;\">\n",
       "      <th></th>\n",
       "      <th>Pickup_DateTime</th>\n",
       "      <th>Passenger_Count</th>\n",
       "      <th>Pickup_Lon</th>\n",
       "      <th>Pickup_Lat</th>\n",
       "      <th>Dropoff_Lon</th>\n",
       "      <th>Dropoff_Lat</th>\n",
       "    </tr>\n",
       "    <tr>\n",
       "      <th>index</th>\n",
       "      <th></th>\n",
       "      <th></th>\n",
       "      <th></th>\n",
       "      <th></th>\n",
       "      <th></th>\n",
       "      <th></th>\n",
       "    </tr>\n",
       "  </thead>\n",
       "  <tbody>\n",
       "    <tr>\n",
       "      <th>989143</th>\n",
       "      <td>2012-06-12 13:08:00</td>\n",
       "      <td>1</td>\n",
       "      <td>-73.992393</td>\n",
       "      <td>40.749615</td>\n",
       "      <td>-73.981773</td>\n",
       "      <td>40.758766</td>\n",
       "    </tr>\n",
       "    <tr>\n",
       "      <th>601098</th>\n",
       "      <td>2011-05-16 06:47:00</td>\n",
       "      <td>1</td>\n",
       "      <td>-73.963699</td>\n",
       "      <td>40.798126</td>\n",
       "      <td>-73.973564</td>\n",
       "      <td>40.792355</td>\n",
       "    </tr>\n",
       "    <tr>\n",
       "      <th>1449857</th>\n",
       "      <td>2014-01-08 14:14:00</td>\n",
       "      <td>1</td>\n",
       "      <td>-73.959610</td>\n",
       "      <td>40.771881</td>\n",
       "      <td>-73.979797</td>\n",
       "      <td>40.776112</td>\n",
       "    </tr>\n",
       "    <tr>\n",
       "      <th>888392</th>\n",
       "      <td>2012-04-13 12:21:00</td>\n",
       "      <td>2</td>\n",
       "      <td>-74.003754</td>\n",
       "      <td>40.737495</td>\n",
       "      <td>-73.979378</td>\n",
       "      <td>40.750145</td>\n",
       "    </tr>\n",
       "    <tr>\n",
       "      <th>1763118</th>\n",
       "      <td>2016-04-10 23:28:07</td>\n",
       "      <td>1</td>\n",
       "      <td>-73.990150</td>\n",
       "      <td>40.749989</td>\n",
       "      <td>-73.950470</td>\n",
       "      <td>40.706936</td>\n",
       "    </tr>\n",
       "  </tbody>\n",
       "</table>\n",
       "</div>"
      ],
      "text/plain": [
       "            Pickup_DateTime  Passenger_Count  Pickup_Lon  Pickup_Lat  \\\n",
       "index                                                                  \n",
       "989143  2012-06-12 13:08:00                1  -73.992393   40.749615   \n",
       "601098  2011-05-16 06:47:00                1  -73.963699   40.798126   \n",
       "1449857 2014-01-08 14:14:00                1  -73.959610   40.771881   \n",
       "888392  2012-04-13 12:21:00                2  -74.003754   40.737495   \n",
       "1763118 2016-04-10 23:28:07                1  -73.990150   40.749989   \n",
       "\n",
       "         Dropoff_Lon  Dropoff_Lat  \n",
       "index                              \n",
       "989143    -73.981773    40.758766  \n",
       "601098    -73.973564    40.792355  \n",
       "1449857   -73.979797    40.776112  \n",
       "888392    -73.979378    40.750145  \n",
       "1763118   -73.950470    40.706936  "
      ]
     },
     "execution_count": 7,
     "metadata": {},
     "output_type": "execute_result"
    }
   ],
   "source": [
    "X_train.head()"
   ]
  },
  {
   "cell_type": "code",
   "execution_count": 8,
   "metadata": {},
   "outputs": [
    {
     "data": {
      "text/html": [
       "<div>\n",
       "<style scoped>\n",
       "    .dataframe tbody tr th:only-of-type {\n",
       "        vertical-align: middle;\n",
       "    }\n",
       "\n",
       "    .dataframe tbody tr th {\n",
       "        vertical-align: top;\n",
       "    }\n",
       "\n",
       "    .dataframe thead th {\n",
       "        text-align: right;\n",
       "    }\n",
       "</style>\n",
       "<table border=\"1\" class=\"dataframe\">\n",
       "  <thead>\n",
       "    <tr style=\"text-align: right;\">\n",
       "      <th></th>\n",
       "      <th>Pickup_DateTime</th>\n",
       "      <th>Passenger_Count</th>\n",
       "      <th>Pickup_Lon</th>\n",
       "      <th>Pickup_Lat</th>\n",
       "      <th>Dropoff_Lon</th>\n",
       "      <th>Dropoff_Lat</th>\n",
       "    </tr>\n",
       "    <tr>\n",
       "      <th>index</th>\n",
       "      <th></th>\n",
       "      <th></th>\n",
       "      <th></th>\n",
       "      <th></th>\n",
       "      <th></th>\n",
       "      <th></th>\n",
       "    </tr>\n",
       "  </thead>\n",
       "  <tbody>\n",
       "    <tr>\n",
       "      <th>1829507</th>\n",
       "      <td>2016-02-08 16:54:18</td>\n",
       "      <td>1</td>\n",
       "      <td>-74.007881</td>\n",
       "      <td>40.724075</td>\n",
       "      <td>-74.006729</td>\n",
       "      <td>40.730755</td>\n",
       "    </tr>\n",
       "    <tr>\n",
       "      <th>969860</th>\n",
       "      <td>2012-02-23 15:10:00</td>\n",
       "      <td>2</td>\n",
       "      <td>-73.975456</td>\n",
       "      <td>40.755009</td>\n",
       "      <td>-73.959061</td>\n",
       "      <td>40.777870</td>\n",
       "    </tr>\n",
       "    <tr>\n",
       "      <th>1030974</th>\n",
       "      <td>2013-10-19 22:33:15</td>\n",
       "      <td>1</td>\n",
       "      <td>-73.992035</td>\n",
       "      <td>40.750412</td>\n",
       "      <td>-73.972534</td>\n",
       "      <td>40.749149</td>\n",
       "    </tr>\n",
       "    <tr>\n",
       "      <th>1871931</th>\n",
       "      <td>2016-02-06 21:25:10</td>\n",
       "      <td>3</td>\n",
       "      <td>-74.015640</td>\n",
       "      <td>40.714840</td>\n",
       "      <td>-74.008652</td>\n",
       "      <td>40.719120</td>\n",
       "    </tr>\n",
       "    <tr>\n",
       "      <th>1825593</th>\n",
       "      <td>2016-05-07 01:22:01</td>\n",
       "      <td>5</td>\n",
       "      <td>-73.978592</td>\n",
       "      <td>40.745087</td>\n",
       "      <td>-73.901176</td>\n",
       "      <td>40.745853</td>\n",
       "    </tr>\n",
       "  </tbody>\n",
       "</table>\n",
       "</div>"
      ],
      "text/plain": [
       "            Pickup_DateTime  Passenger_Count  Pickup_Lon  Pickup_Lat  \\\n",
       "index                                                                  \n",
       "1829507 2016-02-08 16:54:18                1  -74.007881   40.724075   \n",
       "969860  2012-02-23 15:10:00                2  -73.975456   40.755009   \n",
       "1030974 2013-10-19 22:33:15                1  -73.992035   40.750412   \n",
       "1871931 2016-02-06 21:25:10                3  -74.015640   40.714840   \n",
       "1825593 2016-05-07 01:22:01                5  -73.978592   40.745087   \n",
       "\n",
       "         Dropoff_Lon  Dropoff_Lat  \n",
       "index                              \n",
       "1829507   -74.006729    40.730755  \n",
       "969860    -73.959061    40.777870  \n",
       "1030974   -73.972534    40.749149  \n",
       "1871931   -74.008652    40.719120  \n",
       "1825593   -73.901176    40.745853  "
      ]
     },
     "execution_count": 8,
     "metadata": {},
     "output_type": "execute_result"
    }
   ],
   "source": [
    "X_test.head()"
   ]
  },
  {
   "cell_type": "code",
   "execution_count": 9,
   "metadata": {},
   "outputs": [
    {
     "data": {
      "text/plain": [
       "index\n",
       "989143     0\n",
       "601098     0\n",
       "1449857    0\n",
       "888392     1\n",
       "1763118    1\n",
       "Name: Fare_Bin, dtype: category\n",
       "Categories (5, int64): [0, 1, 2, 3, 4]"
      ]
     },
     "execution_count": 9,
     "metadata": {},
     "output_type": "execute_result"
    }
   ],
   "source": [
    "y_train.head()"
   ]
  },
  {
   "cell_type": "code",
   "execution_count": 10,
   "metadata": {},
   "outputs": [
    {
     "data": {
      "text/plain": [
       "index\n",
       "1829507    0\n",
       "969860     0\n",
       "1030974    1\n",
       "1871931    0\n",
       "1825593    1\n",
       "Name: Fare_Bin, dtype: category\n",
       "Categories (5, int64): [0, 1, 2, 3, 4]"
      ]
     },
     "execution_count": 10,
     "metadata": {},
     "output_type": "execute_result"
    }
   ],
   "source": [
    "y_test.head()"
   ]
  },
  {
   "cell_type": "code",
   "execution_count": 11,
   "metadata": {},
   "outputs": [
    {
     "data": {
      "text/plain": [
       "<matplotlib.axes._subplots.AxesSubplot at 0x22b6926c320>"
      ]
     },
     "execution_count": 11,
     "metadata": {},
     "output_type": "execute_result"
    },
    {
     "data": {
      "image/png": "[encoded data removed]",
      "text/plain": [
       "<Figure size 432x288 with 1 Axes>"
      ]
     },
     "metadata": {
      "needs_background": "light"
     },
     "output_type": "display_data"
    }
   ],
   "source": [
    "plt.title('Count of Target Bin')\n",
    "y_train.value_counts().plot.bar()"
   ]
  },
  {
   "cell_type": "code",
   "execution_count": 12,
   "metadata": {},
   "outputs": [
    {
     "data": {
      "text/plain": [
       "<matplotlib.axes._subplots.AxesSubplot at 0x22b79308c18>"
      ]
     },
     "execution_count": 12,
     "metadata": {},
     "output_type": "execute_result"
    },
    {
     "data": {
      "image/png": "[encoded data removed]",
      "text/plain": [
       "<Figure size 432x288 with 1 Axes>"
      ]
     },
     "metadata": {
      "needs_background": "light"
     },
     "output_type": "display_data"
    }
   ],
   "source": [
    "plt.title('Count of Target Bin')\n",
    "y_test.value_counts().plot.bar()"
   ]
  },
  {
   "cell_type": "markdown",
   "metadata": {},
   "source": [
    "### Create Numpy Array with most frequent Fare Bin as Value for Prediction\n",
    "#### as Baseline"
   ]
  },
  {
   "cell_type": "code",
   "execution_count": 13,
   "metadata": {},
   "outputs": [],
   "source": [
    "# Get Index of the most frequent Fare_Bin\n",
    "Most_Frequent_Fare_Bin_Train=y_train.value_counts().idxmax()\n",
    "Most_Frequent_Fare_Bin_Test=y_test.value_counts().idxmax()\n",
    "# Create Numpy Array of Prediction\n",
    "y_train_pred=np.empty(shape=len(y_train))\n",
    "y_train_pred.fill(Most_Frequent_Fare_Bin_Train)\n",
    "y_test_pred=np.empty(shape=len(y_test))\n",
    "y_test_pred.fill(Most_Frequent_Fare_Bin_Test)"
   ]
  },
  {
   "cell_type": "markdown",
   "metadata": {},
   "source": [
    "### Evaluation for Training Data"
   ]
  },
  {
   "cell_type": "code",
   "execution_count": 14,
   "metadata": {},
   "outputs": [
    {
     "name": "stdout",
     "output_type": "stream",
     "text": [
      "Accuracy: 0.608\n"
     ]
    }
   ],
   "source": [
    "print(\"Accuracy: {:.3f}\".format(accuracy_score(y_train,y_train_pred)))"
   ]
  },
  {
   "cell_type": "code",
   "execution_count": 15,
   "metadata": {},
   "outputs": [
    {
     "name": "stdout",
     "output_type": "stream",
     "text": [
      "F1-Scores: 0.608\n"
     ]
    }
   ],
   "source": [
    "print(\"F1-Scores: {:.3f}\".format(f1_score(y_train,y_train_pred,average=\"micro\")))"
   ]
  },
  {
   "cell_type": "code",
   "execution_count": 16,
   "metadata": {},
   "outputs": [
    {
     "name": "stdout",
     "output_type": "stream",
     "text": [
      "Konfusionsmatrix:\n",
      "[[917599      0      0      0      0]\n",
      " [431488      0      0      0      0]\n",
      " [ 94033      0      0      0      0]\n",
      " [ 44655      0      0      0      0]\n",
      " [ 21701      0      0      0      0]]\n"
     ]
    }
   ],
   "source": [
    "print(\"Konfusionsmatrix:\\n{}\".format(confusion_matrix(y_train,y_train_pred)))"
   ]
  },
  {
   "cell_type": "code",
   "execution_count": 17,
   "metadata": {},
   "outputs": [
    {
     "name": "stderr",
     "output_type": "stream",
     "text": [
      "C:\\Users\\thu-bao\\AppData\\Roaming\\Python\\Python37\\site-packages\\sklearn\\metrics\\classification.py:1437: UndefinedMetricWarning: Precision and F-score are ill-defined and being set to 0.0 in labels with no predicted samples.\n",
      "  'precision', 'predicted', average, warn_for)\n"
     ]
    },
    {
     "name": "stdout",
     "output_type": "stream",
     "text": [
      "              precision    recall  f1-score   support\n",
      "\n",
      "           0       0.61      1.00      0.76    917599\n",
      "           1       0.00      0.00      0.00    431488\n",
      "           2       0.00      0.00      0.00     94033\n",
      "           3       0.00      0.00      0.00     44655\n",
      "           4       0.00      0.00      0.00     21701\n",
      "\n",
      "    accuracy                           0.61   1509476\n",
      "   macro avg       0.12      0.20      0.15   1509476\n",
      "weighted avg       0.37      0.61      0.46   1509476\n",
      "\n"
     ]
    }
   ],
   "source": [
    "print(classification_report(y_train,y_train_pred))"
   ]
  },
  {
   "cell_type": "markdown",
   "metadata": {},
   "source": [
    "### Evaluation for Test Data"
   ]
  },
  {
   "cell_type": "code",
   "execution_count": 18,
   "metadata": {},
   "outputs": [
    {
     "name": "stdout",
     "output_type": "stream",
     "text": [
      "Accuracy: 0.608\n"
     ]
    }
   ],
   "source": [
    "print(\"Accuracy: {:.3f}\".format(accuracy_score(y_test,y_test_pred)))"
   ]
  },
  {
   "cell_type": "code",
   "execution_count": 19,
   "metadata": {},
   "outputs": [
    {
     "name": "stdout",
     "output_type": "stream",
     "text": [
      "F1-Scores: 0.608\n"
     ]
    }
   ],
   "source": [
    "print(\"F1-Scores: {:.3f}\".format(f1_score(y_test,y_test_pred,average=\"micro\")))"
   ]
  },
  {
   "cell_type": "code",
   "execution_count": 20,
   "metadata": {},
   "outputs": [
    {
     "name": "stdout",
     "output_type": "stream",
     "text": [
      "Konfusionsmatrix:\n",
      "[[229452      0      0      0      0]\n",
      " [107804      0      0      0      0]\n",
      " [ 23647      0      0      0      0]\n",
      " [ 11161      0      0      0      0]\n",
      " [  5305      0      0      0      0]]\n"
     ]
    }
   ],
   "source": [
    "print(\"Konfusionsmatrix:\\n{}\".format(confusion_matrix(y_test,y_test_pred)))"
   ]
  },
  {
   "cell_type": "code",
   "execution_count": 21,
   "metadata": {},
   "outputs": [
    {
     "name": "stdout",
     "output_type": "stream",
     "text": [
      "              precision    recall  f1-score   support\n",
      "\n",
      "           0       0.61      1.00      0.76    229452\n",
      "           1       0.00      0.00      0.00    107804\n",
      "           2       0.00      0.00      0.00     23647\n",
      "           3       0.00      0.00      0.00     11161\n",
      "           4       0.00      0.00      0.00      5305\n",
      "\n",
      "    accuracy                           0.61    377369\n",
      "   macro avg       0.12      0.20      0.15    377369\n",
      "weighted avg       0.37      0.61      0.46    377369\n",
      "\n"
     ]
    }
   ],
   "source": [
    "print(classification_report(y_test,y_test_pred))"
   ]
  },
  {
   "cell_type": "code",
   "execution_count": null,
   "metadata": {},
   "outputs": [],
   "source": []
  }
 ],
 "metadata": {
  "kernelspec": {
   "display_name": "Python 3",
   "language": "python",
   "name": "python3"
  },
  "language_info": {
   "codemirror_mode": {
    "name": "ipython",
    "version": 3
   },
   "file_extension": ".py",
   "mimetype": "text/x-python",
   "name": "python",
   "nbconvert_exporter": "python",
   "pygments_lexer": "ipython3",
   "version": "3.7.3"
  }
 },
 "nbformat": 4,
 "nbformat_minor": 4
}
