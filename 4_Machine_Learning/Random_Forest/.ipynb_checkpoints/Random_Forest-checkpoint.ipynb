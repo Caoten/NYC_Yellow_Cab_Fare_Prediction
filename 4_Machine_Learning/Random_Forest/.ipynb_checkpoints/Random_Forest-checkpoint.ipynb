{
 "cells": [
  {
   "cell_type": "code",
   "execution_count": null,
   "metadata": {},
   "outputs": [],
   "source": [
    "import numpy as np\n",
    "import pandas as pd\n",
    "import seaborn as sns\n",
    "from matplotlib import pyplot as plt\n",
    "import sklearn\n",
    "from sklearn.metrics import accuracy_score\n",
    "from sklearn.metrics import classification_report\n",
    "from sklearn.metrics import confusion_matrix\n",
    "from sklearn.model_selection import train_test_split\n",
    "from sklearn.utils.multiclass import unique_labels\n",
    "from sklearn.metrics import precision_recall_curve\n",
    "from sklearn.ensemble import RandomForestClassifier\n",
    "import joblib\n",
    "import sys\n",
    "sys.path.append('C:/Users/thu-bao/Bachelorarbeit/3_Code/NYC_Yellow_Cab_Fare_Prediction/6_Helper_Function')\n",
    "import Resampling\n",
    "\n",
    "import tensorflow as tf\n",
    "from tensorflow import keras"
   ]
  },
  {
   "cell_type": "code",
   "execution_count": null,
   "metadata": {},
   "outputs": [],
   "source": [
    "%matplotlib inline\n",
    "pd.set_option('display.max_columns', None)"
   ]
  },
  {
   "cell_type": "markdown",
   "metadata": {},
   "source": [
    "### Load transformed Data "
   ]
  },
  {
   "cell_type": "code",
   "execution_count": null,
   "metadata": {},
   "outputs": [],
   "source": [
    "path_without=\"F:/1_Bachelorarbeit/1_Daten/1_Yellow_Cab_Trips_2009-June_2016/7_Transformed_Data/Without_Feature_Engineering.parquet\"\n",
    "path_with=\"F:/1_Bachelorarbeit/1_Daten/1_Yellow_Cab_Trips_2009-June_2016/7_Transformed_Data/With_Feature_Engineering.parquet\"\n",
    "path_with_external=\"F:/1_Bachelorarbeit/1_Daten/1_Yellow_Cab_Trips_2009-June_2016/7_Transformed_Data/With_Feature_Engineering_External_Data.parquet\"\n",
    "# Testing the Parquet Files\n",
    "data_without=pd.read_parquet(path=path_without,engine=\"fastparquet\")\n",
    "data_with=pd.read_parquet(path=path_with,engine=\"fastparquet\")\n",
    "data_with_external=pd.read_parquet(path=path_with_external,engine=\"fastparquet\")"
   ]
  },
  {
   "cell_type": "code",
   "execution_count": null,
   "metadata": {},
   "outputs": [],
   "source": [
    "data_without.head()"
   ]
  },
  {
   "cell_type": "code",
   "execution_count": null,
   "metadata": {},
   "outputs": [],
   "source": [
    "data_without.info()"
   ]
  },
  {
   "cell_type": "code",
   "execution_count": null,
   "metadata": {},
   "outputs": [],
   "source": [
    "data_with.head()"
   ]
  },
  {
   "cell_type": "code",
   "execution_count": null,
   "metadata": {},
   "outputs": [],
   "source": [
    "data_with.info()"
   ]
  },
  {
   "cell_type": "code",
   "execution_count": null,
   "metadata": {},
   "outputs": [],
   "source": [
    "data_with_external.head()"
   ]
  },
  {
   "cell_type": "code",
   "execution_count": null,
   "metadata": {},
   "outputs": [],
   "source": [
    "data_with_external.info()"
   ]
  },
  {
   "cell_type": "code",
   "execution_count": null,
   "metadata": {},
   "outputs": [],
   "source": [
    "data_without.describe()"
   ]
  },
  {
   "cell_type": "code",
   "execution_count": null,
   "metadata": {},
   "outputs": [],
   "source": [
    "data_with.describe()"
   ]
  },
  {
   "cell_type": "code",
   "execution_count": null,
   "metadata": {},
   "outputs": [],
   "source": [
    "data_with_external.describe()"
   ]
  },
  {
   "cell_type": "code",
   "execution_count": null,
   "metadata": {},
   "outputs": [],
   "source": [
    "# Create Training and Testset for the 3 Datasets\n",
    "X_train_without, X_test_without, y_train_without, y_test_without = train_test_split(data_without.drop(columns=[\"Fare_Rate\"]), data_without[\"Fare_Rate\"], test_size=0.2, random_state=1)\n",
    "X_train_with, X_test_with, y_train_with, y_test_with = train_test_split(data_with.drop(columns=[\"Fare_Rate\"]), data_with[\"Fare_Rate\"], test_size=0.2, random_state=1)\n",
    "X_train_with_external, X_test_with_external, y_train_with_external, y_test_with_external = train_test_split(data_with_external.drop(columns=[\"Fare_Rate\"]), data_with_external[\"Fare_Rate\"], test_size=0.2, random_state=1)"
   ]
  },
  {
   "cell_type": "code",
   "execution_count": null,
   "metadata": {},
   "outputs": [],
   "source": [
    "X_train_without.shape"
   ]
  },
  {
   "cell_type": "code",
   "execution_count": null,
   "metadata": {},
   "outputs": [],
   "source": [
    "y_train_without.shape"
   ]
  },
  {
   "cell_type": "code",
   "execution_count": null,
   "metadata": {},
   "outputs": [],
   "source": [
    "# Resampling Training Datasets\n",
    "X_train_without_undersample,y_train_without_undersample=Resampling.random_undersample(X_train_without,y_train_without)\n",
    "X_train_without_oversample,y_train_without_oversample=Resampling.random_oversample(X_train_without,y_train_without)\n",
    "\n",
    "X_train_with_undersample,y_train_with_undersample=Resampling.random_undersample(X_train_with,y_train_with)\n",
    "X_train_with_oversample,y_train_with_oversample=Resampling.random_oversample(X_train_with,y_train_with)\n",
    "\n",
    "X_train_with_external_undersample,y_train_with_external_undersample=Resampling.random_undersample(X_train_with_external,y_train_with_external)\n",
    "X_train_with_external_external_oversample,y_train_with_external_oversample=Resampling.random_oversample(X_train_with_external,y_train_with_external)"
   ]
  },
  {
   "cell_type": "markdown",
   "metadata": {},
   "source": [
    "### Random Forest Classifier Model"
   ]
  },
  {
   "cell_type": "code",
   "execution_count": null,
   "metadata": {},
   "outputs": [],
   "source": [
    "# Compile Models\n",
    "rnd_for_without_normal = RandomForestClassifier(n_estimators=40)\n",
    "rnd_for_without_undersample = RandomForestClassifier(n_estimators=40)\n",
    "rnd_for_without_oversample = RandomForestClassifier(n_estimators=40)\n",
    "rnd_for_with_normal = RandomForestClassifier(n_estimators=40)\n",
    "rnd_for_with_undersample = RandomForestClassifier(n_estimators=40)\n",
    "rnd_for_with_oversample = RandomForestClassifier(n_estimators=40)\n",
    "rnd_for_with_external_normal = RandomForestClassifier(n_estimators=40)\n",
    "rnd_for_with_external_undersample = RandomForestClassifier(n_estimators=40)\n",
    "rnd_for_with_external_oversample = RandomForestClassifier(n_estimators=40)"
   ]
  },
  {
   "cell_type": "code",
   "execution_count": null,
   "metadata": {},
   "outputs": [],
   "source": [
    "rnd_for_without_normal.fit(X_train_without,y_train_without)"
   ]
  },
  {
   "cell_type": "code",
   "execution_count": null,
   "metadata": {},
   "outputs": [],
   "source": [
    "# save the model to disk\n",
    "filename = 'F:/1_Bachelorarbeit/1_Daten/1_Yellow_Cab_Trips_2009-June_2016/8_Machine_Learning/rnd_for_without_normal.sav'\n",
    "joblib.dump(rnd_for_without_normal, filename)"
   ]
  },
  {
   "cell_type": "code",
   "execution_count": null,
   "metadata": {},
   "outputs": [],
   "source": [
    "rnd_for_without_undersample.fit(X_train_without_undersample,y_train_without_undersample)"
   ]
  },
  {
   "cell_type": "code",
   "execution_count": null,
   "metadata": {},
   "outputs": [],
   "source": [
    "# save the model to disk\n",
    "filename = 'F:/1_Bachelorarbeit/1_Daten/1_Yellow_Cab_Trips_2009-June_2016/8_Machine_Learning/rnd_for_without_undersample.sav'\n",
    "joblib.dump(rnd_for_without_undersample, filename)"
   ]
  },
  {
   "cell_type": "code",
   "execution_count": null,
   "metadata": {},
   "outputs": [],
   "source": [
    "rnd_for_without_oversample.fit(X_train_without_oversample,y_train_without_oversample)"
   ]
  },
  {
   "cell_type": "code",
   "execution_count": null,
   "metadata": {},
   "outputs": [],
   "source": [
    "# save the model to disk\n",
    "filename = 'F:/1_Bachelorarbeit/1_Daten/1_Yellow_Cab_Trips_2009-June_2016/8_Machine_Learning/rnd_for_without_oversample.sav'\n",
    "joblib.dump(rnd_for_without_oversample, filename)"
   ]
  },
  {
   "cell_type": "code",
   "execution_count": null,
   "metadata": {},
   "outputs": [],
   "source": [
    "rnd_for_with_normal.fit(X_train_with,y_train_with)"
   ]
  },
  {
   "cell_type": "code",
   "execution_count": null,
   "metadata": {},
   "outputs": [],
   "source": [
    "# save the model to disk\n",
    "filename = 'F:/1_Bachelorarbeit/1_Daten/1_Yellow_Cab_Trips_2009-June_2016/8_Machine_Learning/rnd_for_with_normal.sav'\n",
    "joblib.dump(rnd_for_with_normal, filename)"
   ]
  },
  {
   "cell_type": "code",
   "execution_count": null,
   "metadata": {},
   "outputs": [],
   "source": [
    "rnd_for_with_undersample.fit(X_train_with_undersample,y_train_with_undersample)"
   ]
  },
  {
   "cell_type": "code",
   "execution_count": null,
   "metadata": {},
   "outputs": [],
   "source": [
    "# save the model to disk\n",
    "filename = 'F:/1_Bachelorarbeit/1_Daten/1_Yellow_Cab_Trips_2009-June_2016/8_Machine_Learning/rnd_for_with_undersample.sav'\n",
    "joblib.dump(rnd_for_with_undersample, filename)"
   ]
  },
  {
   "cell_type": "code",
   "execution_count": null,
   "metadata": {},
   "outputs": [],
   "source": [
    "rnd_for_with_oversample.fit(X_train_with_oversample,y_train_with_oversample)"
   ]
  },
  {
   "cell_type": "code",
   "execution_count": null,
   "metadata": {},
   "outputs": [],
   "source": [
    "# save the model to disk\n",
    "filename = 'F:/1_Bachelorarbeit/1_Daten/1_Yellow_Cab_Trips_2009-June_2016/8_Machine_Learning/rnd_for_with_oversample.sav'\n",
    "joblib.dump(rnd_for_with_oversample, filename)"
   ]
  },
  {
   "cell_type": "code",
   "execution_count": null,
   "metadata": {},
   "outputs": [],
   "source": [
    "rnd_for_with_external_normal.fit(X_train_with_external,y_train_with_external)"
   ]
  },
  {
   "cell_type": "code",
   "execution_count": null,
   "metadata": {},
   "outputs": [],
   "source": [
    "# save the model to disk\n",
    "filename = 'F:/1_Bachelorarbeit/1_Daten/1_Yellow_Cab_Trips_2009-June_2016/8_Machine_Learning/rnd_for_with_external_normal.sav'\n",
    "joblib.dump(rnd_for_with_external_normal, filename)"
   ]
  },
  {
   "cell_type": "code",
   "execution_count": null,
   "metadata": {},
   "outputs": [],
   "source": [
    "rnd_for_with_external_undersample.fit(X_train_with_external_undersample,y_train_with_external_undersample)"
   ]
  },
  {
   "cell_type": "code",
   "execution_count": null,
   "metadata": {},
   "outputs": [],
   "source": [
    "# save the model to disk\n",
    "filename = 'F:/1_Bachelorarbeit/1_Daten/1_Yellow_Cab_Trips_2009-June_2016/8_Machine_Learning/rnd_for_with_external_undersample.sav'\n",
    "joblib.dump(rnd_for_with_external_undersample, filename)"
   ]
  },
  {
   "cell_type": "code",
   "execution_count": null,
   "metadata": {},
   "outputs": [],
   "source": [
    "rnd_for_with_external_oversample.fit(X_train_with_external_external_oversample,y_train_with_external_oversample)"
   ]
  },
  {
   "cell_type": "code",
   "execution_count": null,
   "metadata": {},
   "outputs": [],
   "source": [
    "# save the model to disk\n",
    "filename = 'F:/1_Bachelorarbeit/1_Daten/1_Yellow_Cab_Trips_2009-June_2016/8_Machine_Learning/rnd_for_with_external_oversample.sav'\n",
    "joblib.dump(rnd_for_with_external_oversample, filename)"
   ]
  },
  {
   "cell_type": "markdown",
   "metadata": {},
   "source": [
    "### Prediction of all Models"
   ]
  },
  {
   "cell_type": "code",
   "execution_count": null,
   "metadata": {},
   "outputs": [],
   "source": [
    "rnd_for_without_normal_pred=rnd_for_without_normal.predict(X_test_without)"
   ]
  },
  {
   "cell_type": "code",
   "execution_count": null,
   "metadata": {},
   "outputs": [],
   "source": [
    "rnd_for_without_undersample_pred=rnd_for_without_undersample.predict(X_test_without)"
   ]
  },
  {
   "cell_type": "code",
   "execution_count": null,
   "metadata": {},
   "outputs": [],
   "source": [
    "rnd_for_without_oversample_pred=rnd_for_without_oversample.predict(X_test_without)"
   ]
  },
  {
   "cell_type": "code",
   "execution_count": null,
   "metadata": {},
   "outputs": [],
   "source": [
    "rnd_for_with_normal_pred=rnd_for_with_normal.predict(X_test_with)"
   ]
  },
  {
   "cell_type": "code",
   "execution_count": null,
   "metadata": {},
   "outputs": [],
   "source": [
    "rnd_for_with_undersample_pred=rnd_for_with_undersample.predict(X_test_with)"
   ]
  },
  {
   "cell_type": "code",
   "execution_count": null,
   "metadata": {},
   "outputs": [],
   "source": [
    "rnd_for_with_oversample_pred=rnd_for_with_oversample.predict(X_test_with)"
   ]
  },
  {
   "cell_type": "code",
   "execution_count": null,
   "metadata": {},
   "outputs": [],
   "source": [
    "rnd_for_with_external_normal_pred=rnd_for_with_external_normal.predict(X_test_with_external)"
   ]
  },
  {
   "cell_type": "code",
   "execution_count": null,
   "metadata": {},
   "outputs": [],
   "source": [
    "rnd_for_with_external_undersample_pred=rnd_for_with_external_undersample.predict(X_test_with_external)"
   ]
  },
  {
   "cell_type": "code",
   "execution_count": null,
   "metadata": {},
   "outputs": [],
   "source": [
    "rnd_for_with_external_oversample_pred=rnd_for_with_external_oversample.predict(X_test_with_external)"
   ]
  },
  {
   "cell_type": "markdown",
   "metadata": {},
   "source": [
    "### Evaluation for Test Data\n",
    "#### Without Feature Engineering\n",
    "##### imbalanced"
   ]
  },
  {
   "cell_type": "code",
   "execution_count": null,
   "metadata": {},
   "outputs": [],
   "source": [
    "print(\"Accuracy: {:.3f} %\".format(accuracy_score(y_test_without,rnd_for_without_normal_pred)*100))"
   ]
  },
  {
   "cell_type": "code",
   "execution_count": null,
   "metadata": {},
   "outputs": [],
   "source": [
    "# Plot Heatmap\n",
    "plt.figure(figsize=(12,12))\n",
    "corr = sns.heatmap(confusion_matrix(y_test_without,rnd_for_without_normal_pred), annot = True)\n",
    "plt.title('Confusion Matrix',fontsize=20)\n",
    "plt.xlabel('Predicted Label')\n",
    "plt.ylabel('True Label')"
   ]
  },
  {
   "cell_type": "code",
   "execution_count": null,
   "metadata": {},
   "outputs": [],
   "source": [
    "print(classification_report(y_test_without,rnd_for_without_normal_pred))"
   ]
  },
  {
   "cell_type": "markdown",
   "metadata": {},
   "source": [
    "### Evaluation for Test Data\n",
    "#### Without Feature Engineering\n",
    "##### undersample"
   ]
  },
  {
   "cell_type": "code",
   "execution_count": null,
   "metadata": {},
   "outputs": [],
   "source": [
    "print(\"Accuracy: {:.3f} %\".format(accuracy_score(y_test_without,rnd_for_without_undersample_pred)*100))"
   ]
  },
  {
   "cell_type": "code",
   "execution_count": null,
   "metadata": {},
   "outputs": [],
   "source": [
    "# Plot Heatmap\n",
    "plt.figure(figsize=(12,12))\n",
    "corr = sns.heatmap(confusion_matrix(y_test_without,rnd_for_without_undersample_pred), annot = True)\n",
    "plt.title('Confusion Matrix',fontsize=20)\n",
    "plt.xlabel('Predicted Label')\n",
    "plt.ylabel('True Label')"
   ]
  },
  {
   "cell_type": "code",
   "execution_count": null,
   "metadata": {},
   "outputs": [],
   "source": [
    "print(classification_report(y_test_without,rnd_for_without_undersample_pred))"
   ]
  },
  {
   "cell_type": "markdown",
   "metadata": {},
   "source": [
    "### Evaluation for Test Data\n",
    "#### Without Feature Engineering\n",
    "##### oversample"
   ]
  },
  {
   "cell_type": "code",
   "execution_count": null,
   "metadata": {},
   "outputs": [],
   "source": [
    "print(\"Accuracy: {:.3f} %\".format(accuracy_score(y_test_without,rnd_for_without_oversample_pred)*100))"
   ]
  },
  {
   "cell_type": "code",
   "execution_count": null,
   "metadata": {},
   "outputs": [],
   "source": [
    "# Plot Heatmap\n",
    "plt.figure(figsize=(12,12))\n",
    "corr = sns.heatmap(confusion_matrix(y_test_without,rnd_for_without_oversample_pred), annot = True)\n",
    "plt.title('Confusion Matrix',fontsize=20)\n",
    "plt.xlabel('Predicted Label')\n",
    "plt.ylabel('True Label')"
   ]
  },
  {
   "cell_type": "code",
   "execution_count": null,
   "metadata": {},
   "outputs": [],
   "source": [
    "print(classification_report(y_test_without,rnd_for_without_oversample_pred))"
   ]
  },
  {
   "cell_type": "markdown",
   "metadata": {},
   "source": [
    "### Evaluation for Test Data\n",
    "#### With Feature Engineering\n",
    "##### imbalanced"
   ]
  },
  {
   "cell_type": "code",
   "execution_count": null,
   "metadata": {},
   "outputs": [],
   "source": [
    "print(\"Accuracy: {:.3f} %\".format(accuracy_score(y_test_with,rnd_for_with_normal_pred)*100))"
   ]
  },
  {
   "cell_type": "code",
   "execution_count": null,
   "metadata": {},
   "outputs": [],
   "source": [
    "# Plot Heatmap\n",
    "plt.figure(figsize=(12,12))\n",
    "corr = sns.heatmap(confusion_matrix(y_test_with,rnd_for_with_normal_pred), annot = True)\n",
    "plt.title('Confusion Matrix',fontsize=20)\n",
    "plt.xlabel('Predicted Label')\n",
    "plt.ylabel('True Label')"
   ]
  },
  {
   "cell_type": "code",
   "execution_count": null,
   "metadata": {},
   "outputs": [],
   "source": [
    "print(classification_report(y_test_with,rnd_for_with_normal_pred))"
   ]
  },
  {
   "cell_type": "markdown",
   "metadata": {},
   "source": [
    "### Evaluation for Test Data\n",
    "#### With Feature Engineering\n",
    "##### undersample"
   ]
  },
  {
   "cell_type": "code",
   "execution_count": null,
   "metadata": {},
   "outputs": [],
   "source": [
    "print(\"Accuracy: {:.3f} %\".format(accuracy_score(y_test_with,rnd_for_with_undersample_pred)*100))"
   ]
  },
  {
   "cell_type": "code",
   "execution_count": null,
   "metadata": {},
   "outputs": [],
   "source": [
    "# Plot Heatmap\n",
    "plt.figure(figsize=(12,12))\n",
    "corr = sns.heatmap(confusion_matrix(y_test_with,rnd_for_with_undersample_pred), annot = True)\n",
    "plt.title('Confusion Matrix',fontsize=20)\n",
    "plt.xlabel('Predicted Label')\n",
    "plt.ylabel('True Label')"
   ]
  },
  {
   "cell_type": "code",
   "execution_count": null,
   "metadata": {},
   "outputs": [],
   "source": [
    "print(classification_report(y_test_with,rnd_for_with_undersample_pred))"
   ]
  },
  {
   "cell_type": "markdown",
   "metadata": {},
   "source": [
    "### Evaluation for Test Data\n",
    "#### With Feature Engineering\n",
    "##### oversample"
   ]
  },
  {
   "cell_type": "code",
   "execution_count": null,
   "metadata": {},
   "outputs": [],
   "source": [
    "print(\"Accuracy: {:.3f} %\".format(accuracy_score(y_test_with,rnd_for_with_oversample_pred)*100))"
   ]
  },
  {
   "cell_type": "code",
   "execution_count": null,
   "metadata": {},
   "outputs": [],
   "source": [
    "# Plot Heatmap\n",
    "plt.figure(figsize=(12,12))\n",
    "corr = sns.heatmap(confusion_matrix(y_test_with,rnd_for_with_oversample_pred), annot = True)\n",
    "plt.title('Confusion Matrix',fontsize=20)\n",
    "plt.xlabel('Predicted Label')\n",
    "plt.ylabel('True Label')"
   ]
  },
  {
   "cell_type": "code",
   "execution_count": null,
   "metadata": {},
   "outputs": [],
   "source": [
    "print(classification_report(y_test_with,rnd_for_with_oversample_pred))"
   ]
  },
  {
   "cell_type": "markdown",
   "metadata": {},
   "source": [
    "### Evaluation for Test Data\n",
    "#### With Feature Engineering and External Data\n",
    "##### imbalanced"
   ]
  },
  {
   "cell_type": "code",
   "execution_count": null,
   "metadata": {},
   "outputs": [],
   "source": [
    "print(\"Accuracy: {:.3f} %\".format(accuracy_score(y_test_with_external,rnd_for_with_external_normal_pred)*100))"
   ]
  },
  {
   "cell_type": "code",
   "execution_count": null,
   "metadata": {},
   "outputs": [],
   "source": [
    "# Plot Heatmap\n",
    "plt.figure(figsize=(12,12))\n",
    "corr = sns.heatmap(confusion_matrix(y_test_with_external,rnd_for_with_external_normal_pred), annot = True)\n",
    "plt.title('Confusion Matrix',fontsize=20)\n",
    "plt.xlabel('Predicted Label')\n",
    "plt.ylabel('True Label')"
   ]
  },
  {
   "cell_type": "code",
   "execution_count": null,
   "metadata": {},
   "outputs": [],
   "source": [
    "print(classification_report(y_test_with_external,rnd_for_with_external_normal_pred))"
   ]
  },
  {
   "cell_type": "markdown",
   "metadata": {},
   "source": [
    "### Evaluation for Test Data\n",
    "#### With Feature Engineering and External Data\n",
    "##### undersample"
   ]
  },
  {
   "cell_type": "code",
   "execution_count": null,
   "metadata": {},
   "outputs": [],
   "source": [
    "print(\"Accuracy: {:.3f} %\".format(accuracy_score(y_test_with_external,rnd_for_with_external_undersample_pred)*100))"
   ]
  },
  {
   "cell_type": "code",
   "execution_count": null,
   "metadata": {},
   "outputs": [],
   "source": [
    "# Plot Heatmap\n",
    "plt.figure(figsize=(12,12))\n",
    "corr = sns.heatmap(confusion_matrix(y_test_with_external,rnd_for_with_external_undersample_pred), annot = True)\n",
    "plt.title('Confusion Matrix',fontsize=20)\n",
    "plt.xlabel('Predicted Label')\n",
    "plt.ylabel('True Label')"
   ]
  },
  {
   "cell_type": "code",
   "execution_count": null,
   "metadata": {},
   "outputs": [],
   "source": [
    "print(classification_report(y_test_with_external,rnd_for_with_external_undersample_pred))"
   ]
  },
  {
   "cell_type": "markdown",
   "metadata": {},
   "source": [
    "### Evaluation for Test Data\n",
    "#### With Feature Engineering and External Data\n",
    "##### oversample"
   ]
  },
  {
   "cell_type": "code",
   "execution_count": null,
   "metadata": {},
   "outputs": [],
   "source": [
    "print(\"Accuracy: {:.3f} %\".format(accuracy_score(y_test_with_external,rnd_for_with_external_oversample_pred)*100))"
   ]
  },
  {
   "cell_type": "code",
   "execution_count": null,
   "metadata": {},
   "outputs": [],
   "source": [
    "# Plot Heatmap\n",
    "plt.figure(figsize=(12,12))\n",
    "corr = sns.heatmap(confusion_matrix(y_test_with_external,rnd_for_with_external_oversample_pred), annot = True)\n",
    "plt.title('Confusion Matrix',fontsize=20)\n",
    "plt.xlabel('Predicted Label')\n",
    "plt.ylabel('True Label')"
   ]
  },
  {
   "cell_type": "code",
   "execution_count": null,
   "metadata": {},
   "outputs": [],
   "source": [
    "print(classification_report(y_test_with_external,rnd_for_with_external_oversample_pred))"
   ]
  },
  {
   "cell_type": "code",
   "execution_count": null,
   "metadata": {},
   "outputs": [],
   "source": []
  }
 ],
 "metadata": {
  "kernelspec": {
   "display_name": "Python 3",
   "language": "python",
   "name": "python3"
  },
  "language_info": {
   "codemirror_mode": {
    "name": "ipython",
    "version": 3
   },
   "file_extension": ".py",
   "mimetype": "text/x-python",
   "name": "python",
   "nbconvert_exporter": "python",
   "pygments_lexer": "ipython3",
   "version": "3.7.3"
  }
 },
 "nbformat": 4,
 "nbformat_minor": 4
}
